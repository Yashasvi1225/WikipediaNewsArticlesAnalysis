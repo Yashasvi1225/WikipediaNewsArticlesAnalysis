{
 "cells": [
  {
   "cell_type": "code",
   "id": "initial_id",
   "metadata": {
    "collapsed": true,
    "ExecuteTime": {
     "end_time": "2024-11-26T21:17:15.899463Z",
     "start_time": "2024-11-26T21:17:15.338028Z"
    }
   },
   "source": [
    "import random\n",
    "from datasketch import MinHash, MinHashLSH\n",
    "from sklearn.feature_extraction.text import CountVectorizer"
   ],
   "outputs": [],
   "execution_count": 1
  },
  {
   "metadata": {
    "ExecuteTime": {
     "end_time": "2024-11-26T21:17:17.120410Z",
     "start_time": "2024-11-26T21:17:17.117221Z"
    }
   },
   "cell_type": "code",
   "source": "articles = [] ",
   "id": "1d8938e315a8f8aa",
   "outputs": [],
   "execution_count": 2
  },
  {
   "metadata": {
    "ExecuteTime": {
     "end_time": "2024-11-26T21:24:56.599883Z",
     "start_time": "2024-11-26T21:24:51.870150Z"
    }
   },
   "cell_type": "code",
   "source": [
    "from summarization import Summarizer\n",
    "from page_news import PageNews\n",
    "import json\n",
    "page_name = \"Donald Trump\"\n",
    "summarizer = Summarizer(False)\n",
    "page_news_obj = PageNews(summarizer, page_name)\n",
    "json_pages = page_news_obj.fetch_news_article(20)\n",
    "\n",
    "json_pages_parsed = json.loads(json_pages)\n",
    "for json_page in json_pages_parsed:\n",
    "    articles.append(json_page[\"title\"] + json_page[\"content\"])"
   ],
   "id": "69eb6e61ce8ceb08",
   "outputs": [
    {
     "name": "stderr",
     "output_type": "stream",
     "text": [
      "ERROR:root:Failed to fetch data from https://newsapi.org/v2/everything?q=Donald Trump&from=2024-10-14&sortBy=publishedAt&apiKey=f049190b6b744976b46acc21a25972f9: 426 Client Error: Upgrade Required for url: https://newsapi.org/v2/everything?q=Donald%20Trump&from=2024-10-14&sortBy=publishedAt&apiKey=f049190b6b744976b46acc21a25972f9\n"
     ]
    },
    {
     "name": "stdout",
     "output_type": "stream",
     "text": [
      "Page accessed successfully.\n",
      "Page accessed successfully.\n",
      "Page accessed successfully.\n",
      "Page accessed successfully.\n",
      "Page accessed successfully.\n",
      "Page accessed successfully.\n",
      "Fetched data from APIs...\n",
      "[{'url': 'https://www.gurufocus.com/news/2616598/microsoft-stake-slashed-lakehouse-capital-sells-5000-shares-cuts-value-to-4-million', 'title': '\\n          Microsoft Stake Slashed: Lakehouse Capital Sells 5,000 Shares, Cuts Value to $4 Million\\n        ', 'content': \"As disclosed in its most recent regulatory filing, Lakehouse Capital Pty Ltd has significantly reduced its stake in Microsoft Corporation (MSFT, Financial). The firm trimmed its holdings by 34.5%, bringing the total down to 9,472 shares from over 14,000 previously. The current value of these shares stands at approximately $4.08 million. This move reduces Microsoft's weight in the fund's portfolio to 2.9%, making it the 13th largest holding.\\nThe reduction aligns with trends adopted by most institutional investors. For example, Christopher J. Hasenberg Inc. bought 169.2% more Microsoft this year, and Bellevue Group AG bought 47.5%. At the moment, the combined stake of institutional investors and hedge funds is 71.13 % of Microsoft's total stake.\\nMicrosoft still holds a key position in the technological sector, and its stock has increased much more in percentage than others in the past year. Currently, the stock is listed as a 'Moderate Buy' due to a projected earnings growth of 14.3% in the next fiscal year. However, its relatively high P/E and P/B ratios sometimes tell a lot about the value investor strategies for exercising more caution.\\nMicrosoft's core has deep institutional support and impressive growth prospects. However, Lakehouse Capital's dilution remains a foundation holding for many Investors.\\n\\n              We'd love to learn more about your experiences on GuruFocus.com and how we can improve!\\n            \"}, {'url': 'https://www.wealthmanagement.com/equities/magnificent-7-are-beginning-look-average', 'title': 'The Magnificent 7 Are Beginning to Look Average', 'content': \"Wealth Management is part of the Informa Connect Division of Informa PLC\\nThis site is operated by a business or businesses owned by Informa PLC and all copyright resides with them. Informa PLC's registered office is 5 Howick Place, London SW1P 1WG. Registered in England and Wales. Number 8860726.\\nJonathan Levin | Nov 26, 2024\\n(Bloomberg Opinion) -- Growth prospects for the group of companies dubbed the Magnificent 7\\xa0are still above average, but they’re no longer\\xa0magnificent. Consensus Wall Street forecasts suggest that,\\xa0in aggregate, the seven large-capitalization companies will perform just a whisker better than the “S&P 493” next year, and yet investors continue to pay a premium to own them. That alone suggests it may be time to dial back their weightings in portfolios. \\xa0\\nConsider that the group’s net income growth is expected to ping pong around 20% from here on out, according to projections compiled by Bloomberg Intelligence. The other members of the S&P 500 Index are expected to see growth climb toward 16% by the end of next year.\\xa0The issue is that the Mag 7 grouping trades at a median valuation of about 30 times blended forward earnings, while the other large-cap stocks in the S&P 500 Index trade at a median of 19.5 times. How long should we expect investors\\xa0to overpay for increasingly similar performance?\\nRelated: The Top 20 Evergreen Investments Fundraisers in 2024\\nTo a large degree, the next two years will depend on what happens with artificial intelligence and whether the hype around its potential to disrupt the way we do business\\xa0is sustained.\\xa0Nvidia Corp. has become the world’s most exciting stock by providing the proverbial picks and shovels for the early days of the AI boom. Apple Inc., Microsoft Corp., Amazon.com Inc., Meta Platforms Inc. and Alphabet Inc. have all gotten in on the excitement by investing heavily in bringing the technology to companies and consumers, in many cases sending their capital expenditures directly into Nvidia’s coffers.\\xa0The companies have all become codependent and correlated, and their high valuations hinge\\xa0on the idea that the merry-go-round will keep spinning.\\xa0(More on odd-man-out Tesla Inc. later.)\\nSome people say it might be slowing down already. While generative AI models continue to dazzle, they’re also plagued by mistakes and imperfections, and the\\xa0marginal improvement\\xa0for additional dollars and data isn’t quite what it used to be. Conceivably, AI may follow the path of the internet and other innovations described in the\\xa0Gartner hype cycle: Early successes and big dreams give way to a subsequent period\\xa0of disillusionment and even some business failures before\\xa0a more\\xa0sustainable revolution can ultimately take hold. In the dot-com bubble, for instance, Amazon.com emerged triumphant from the ashes of so many other e-commerce companies.\\xa0\\nRelated: Climate Funds on Track for First Year of Outflows\\nHigh expectations may also collide with other threats to the tech and communications behemoths. Alphabet shares tumbled last week after the Department of Justice revealed it would try to make the company sell its Chrome browser. Apple, which has faced its own antitrust scrutiny, is also contending with challenging iPhone sales in China and the threat that President-elect Donald Trump will launch a new trade war that could hobble its supply chain.\\nTesla, I will acknowledge, is a trade unto itself that isn’t directly related to its Mag 7 peers. Lately, it’s been trading not on extraordinary earnings growth but on the promise of robotaxis that don’t yet exist in the market\\xa0and Chief Executive Officer Elon Musk’s cozy relationship with Trump (which may just help him clear regulatory hurdles to Tesla’s\\xa0autonomous driving ambitions).\\xa0At 108 times forward earnings, Tesla is\\xa0both the riskiest investment in the Mag 7 basket and possibly the only true diversifier.\\nNo doubt, these companies all offer a lot to be excited about, too, and many investors will conclude that the upside-surprise potential is too great to miss out on completely.\\nIndeed, 2024 itself has panned out far better than analysts envisioned some 12 months ago. But it would also be logical for investors to take some profits in those companies, much as Warren Buffett, the investor know as the “Oracle of Omaha,”\\xa0 has been doing with\\xa0his stake in Apple. At present, the companies constitute nearly one-third of the S&P 500 by weighting —\\xa0and by extension a bloated portion of many Americans’ retirement savings. That feels like a bit too much of your future to trust to\\xa0a group of richly priced companies all leveraged to the same narrative.\\n\\nMore From Bloomberg Opinion:\\n\\u200b\\u200b\\u200b\\u200b\\u200bWant more Bloomberg Opinion? OPIN <GO>. Or you can subscribe to\\xa0our daily newsletter.\\nTo contact the author of this story:\\r\\nJonathan Levin\\xa0at\\xa0[email\\xa0protected]\\nMore information about text formats\\nFollow us:\"}, {'url': 'https://www.investing.com/news/stock-market-news/musk-uses-x-to-push-his-preferred-political-picks-trump-isnt-always-swayed-3742794', 'title': \"Musk uses X to push his preferred political picks. Trump isn't always swayed\", 'content': 'By Helen Coster and Alexandra Ulmer\\n(Reuters) - Billionaire Elon Musk has been using his social media platform X to go to bat for President-elect Donald Trump\\'s cabinet picks and promote his own preferred candidates, advocating for choices he views as change agents who will help remake the U.S. government.\\nIn several high-profile cases, however, Musk backed people who either lost out on the roles or withdrew from consideration, suggesting some early limits to the Republican mega donor\\'s influence even as he has emerged as one of Trump\\'s most powerful allies.\\nMusk, who has 206 million followers on X, posted or reposted about Trump\\'s cabinet picks more than 70 times between Nov. 7 and Nov. 20, a Reuters review found.\\nThough the posts represented just a fraction of his more than 2,000 posts during that period, Musk in many cases used them to give attention to Trump\\'s most controversial choices, including former Democratic congresswoman Tulsi Gabbard for U.S. intelligence chief and environmental activist Robert F. Kennedy Jr to lead the top U.S. health agency. \\nMusk most enthusiastically rallied support for Matt Gaetz, the former congressman Trump initially tapped to be his attorney general.\\nIn the days following Gaetz\\'s Nov. 13 nomination, Musk posted 37 times about Gaetz or his wife Ginger, mostly in positive terms. That was far more than his posts about Trump\\'s other appointments.\\nGaetz backed out of consideration on Nov. 21, saying his candidacy had become a distraction for Trump amid allegations of sexual misconduct and illicit drug abuse. He has denied wrongdoing.\\nFor Trump\\'s Treasury secretary, Musk pushed for Wall Street financier Howard Lutnick over hedge fund manager Scott Bessent, whom Musk dismissed as \"a business-as-usual choice.\" Bessent got the job anyway.\\nAnd in a separate fight over Senate leadership, Musk\\'s endorsed candidate also came up short.\\nOne Trump ally said those misses showed the limitations of Musk\\'s sway.\\nMusk\\'s reach on X \"doesn’t mean he’s an effective advocate for his positions or chosen cabinet members,\" the Trump ally said. \"He\\'s still learning how to operate in politics.\"\\nSpokespeople for X and Musk did not respond to Reuters requests for comment for this story.\\nMusk, who owns X and rocket company SpaceX and is chief executive of the electric car company Tesla (NASDAQ:TSLA) Inc., poured at least $119 million into getting Trump elected and has been a near-constant fixture at Trump\\'s Florida residence, Mar-a-Lago, since his election victory earlier this month. \\nThe two men attended an Ultimate Fighting Championship event in New York and a SpaceX launch in Texas, and Musk traveled with Trump to Washington for his meeting with President Joe Biden. \\nOn Saturday, Musk reposted a photo that showed him sitting with Trump, Lutnick and Republican Senator Joni Ernst at Mar-a-Lago, where they were discussing cabinet nominees, according to the caption.\\n\"Elon Musk and President Trump are great friends and brilliant leaders working together to Make America Great Again. Elon Musk is a once in a generation business leader and our federal bureaucracy will certainly benefit from his ideas and efficiency,\" said Brian Hughes, a spokesperson for the Trump transition team.\\nMusk\\'s close proximity to Trump has prompted some hand-wringing and complaints from the transition team, who were not accustomed to him being around so much, according to two sources close to Trump staff. \\nAmid increased scrutiny of his unusual role, Musk wrote in a post on X on Nov. 20 that while he had offered his opinion on some candidates, he was not in charge. \\n\"Many selections occur without my knowledge and decisions are 100% that of the President,\" Musk said.\\nEFFICIENCY AND EMOJIS\\nMusk\\'s political posts on X far outnumbered those he used to promote his three businesses, the Reuters review found.\\nHe frequently mocks liberals and posts about government waste and Trump\\'s newly created government efficiency panel, which the president-elect tapped Musk and entrepreneur Vivek Ramaswamy to lead.\\nMusk\\'s typical posts consist either of an emoji or a short response to other posts.\\n\"Exactly,\" he wrote on Nov. 14, in response to a post noting that Trump\\'s cabinet picks were \"young outsiders\" who \"skipped the line.\"\\nHe responded with “Awesome” and a smile emoji on Nov. 13 to a post that said: “They put Tulsi Gabbard on a terror watchlist. Now she’s Director of National Intelligence. The biggest ‘F you’ to the Deep State Swamp.”\\nOn Nov. 16, as questions swirled about who Trump would pick for his Treasury secretary, Musk wrote on X that Bessent was \"a business-as-usual choice,\" while Lutnick would \"actually enact change.\" \\nMusk also lobbied against Bessent internally, two sources close to Trump said. \\nHis efforts fell flat. On Nov. 22, Trump tapped Bessent for the job.\\nEarlier in the month, Musk threw his support behind Republican Senator Rick Scott for Senate majority leader. Trump chose not to weigh in, and Scott ultimately lost to Senator John Thune for the position. \\nOne source close to Musk was struck by Musk\\'s willingness to stick with Trump even after he’s been “shut down a couple of times” by the president-elect.\\n\"That’s very rare for a billionaire,\" the source said. \"In general when they don’t get what they want, they walk away.\"\\nThe source said Musk was committed to Trump\\'s government efficiency efforts.\\n\"He\\'s really focused on the goal,\" the source said.\\nAnother test of Musk\\'s influence lies ahead. Since the election, he has posted six times in support of Trump loyalist Kash Patel running the FBI. \\n\\nPatel, who served on Trump\\'s National Security Council during his first term, has promised to go after politicians and journalists perceived to be enemies of Trump. Musk\\'s X posts make clear that he sees Patel as the best option for change and reform.\\nOn Nov. 14, Musk posted a “100%” emoji in response to a clip of Patel saying that he would shut down the FBI’s headquarters on day one of Trump\\'s new administration and reopen it as a “Deep State Museum,” with the caption “Make him FBI director.” \\n\\n'}]\n"
     ]
    }
   ],
   "execution_count": 18
  },
  {
   "metadata": {
    "ExecuteTime": {
     "end_time": "2024-11-26T21:25:04.633785Z",
     "start_time": "2024-11-26T21:25:04.629598Z"
    }
   },
   "cell_type": "code",
   "source": "len(articles)",
   "id": "7dc613529facaf2e",
   "outputs": [
    {
     "data": {
      "text/plain": [
       "6"
      ]
     },
     "execution_count": 19,
     "metadata": {},
     "output_type": "execute_result"
    }
   ],
   "execution_count": 19
  },
  {
   "metadata": {
    "ExecuteTime": {
     "end_time": "2024-11-26T21:25:11.018280Z",
     "start_time": "2024-11-26T21:25:11.015674Z"
    }
   },
   "cell_type": "code",
   "source": [
    "# Parameters for LSH\n",
    "shingle_size = 5  # Number of words in each shingle\n",
    "num_perm = 128  # Number of permutations for MinHash\n",
    "threshold = 0.5  # Similarity threshold for LSH"
   ],
   "id": "3f82a3454fd8e908",
   "outputs": [],
   "execution_count": 20
  },
  {
   "metadata": {
    "ExecuteTime": {
     "end_time": "2024-11-26T21:25:13.188319Z",
     "start_time": "2024-11-26T21:25:13.184623Z"
    }
   },
   "cell_type": "code",
   "source": [
    "def get_shingles(text, shingle_size):\n",
    "    words = text.split()\n",
    "    return set([' '.join(words[i:i + shingle_size]) for i in range(len(words) - shingle_size + 1)])"
   ],
   "id": "1689166575c6ccff",
   "outputs": [],
   "execution_count": 21
  },
  {
   "metadata": {
    "ExecuteTime": {
     "end_time": "2024-11-26T21:25:14.946342Z",
     "start_time": "2024-11-26T21:25:14.928929Z"
    }
   },
   "cell_type": "code",
   "source": [
    "# Initialize MinHashLSH\n",
    "lsh = MinHashLSH(threshold=threshold, num_perm=num_perm)\n",
    "\n",
    "# Store original article and its MinHash\n",
    "minhash_objects = []"
   ],
   "id": "9e5e037075a0cee7",
   "outputs": [],
   "execution_count": 22
  },
  {
   "metadata": {
    "ExecuteTime": {
     "end_time": "2024-11-26T21:25:16.841914Z",
     "start_time": "2024-11-26T21:25:16.808422Z"
    }
   },
   "cell_type": "code",
   "source": [
    "\n",
    "\n",
    "# Process each article\n",
    "for idx, article in enumerate(articles):\n",
    "    # Create shingles\n",
    "    shingles = get_shingles(article, shingle_size)\n",
    "\n",
    "    # Create MinHash\n",
    "    m = MinHash(num_perm=num_perm)\n",
    "    for shingle in shingles:\n",
    "        m.update(shingle.encode('utf8'))\n",
    "\n",
    "    # Store MinHash object\n",
    "    minhash_objects.append((article, m))\n",
    "\n",
    "    # Add to LSH\n",
    "    if f\"article_{idx}\" not in lsh.keys:\n",
    "        lsh.insert(f\"article_{idx}\", m)\n",
    "    else:\n",
    "        print(f\"Key article_{idx} already exists. Skipping insertion.\")\n",
    "\n"
   ],
   "id": "8cf13d3da77120",
   "outputs": [],
   "execution_count": 23
  },
  {
   "metadata": {
    "jupyter": {
     "is_executing": true
    }
   },
   "cell_type": "code",
   "source": [
    "buckets = {}\n",
    "for idx, (article, m) in enumerate(minhash_objects):\n",
    "    bucket_ids = lsh.query(m)\n",
    "    print(\"similar articles to article\", idx)\n",
    "    print(\"are in bucket\", \"bucket_ids)\n",
    "    if bucket_ids:\n",
    "        primary_bucket = bucket_ids[0]  # Use the first bucket ID\n",
    "        if primary_bucket not in buckets:\n",
    "            buckets[primary_bucket] = article\n"
   ],
   "id": "d2422efd6072b249",
   "outputs": [],
   "execution_count": null
  },
  {
   "metadata": {
    "ExecuteTime": {
     "end_time": "2024-11-26T21:26:21.554532Z",
     "start_time": "2024-11-26T21:26:21.550847Z"
    }
   },
   "cell_type": "code",
   "source": [
    "# Output one representative article from each bucket\n",
    "print(f\"Number of unique buckets: {len(buckets)}\\n\")\n",
    "for bucket_id, representative_article in buckets.items():\n",
    "    print(f\"Bucket {bucket_id}: {representative_article}\")  # Print first 100 characters\n",
    "\n"
   ],
   "id": "11ea1d57553bb960",
   "outputs": [
    {
     "name": "stdout",
     "output_type": "stream",
     "text": [
      "Number of unique buckets: 3\n",
      "\n",
      "Bucket article_0: \n",
      "          Microsoft Stake Slashed: Lakehouse Capital Sells 5,000 Shares, Cuts Value to $4 Million\n",
      "        As disclosed in its most recent regulatory filing, Lakehouse Capital Pty Ltd has significantly reduced its stake in Microsoft Corporation (MSFT, Financial). The firm trimmed its holdings by 34.5%, bringing the total down to 9,472 shares from over 14,000 previously. The current value of these shares stands at approximately $4.08 million. This move reduces Microsoft's weight in the fund's portfolio to 2.9%, making it the 13th largest holding.\n",
      "The reduction aligns with trends adopted by most institutional investors. For example, Christopher J. Hasenberg Inc. bought 169.2% more Microsoft this year, and Bellevue Group AG bought 47.5%. At the moment, the combined stake of institutional investors and hedge funds is 71.13 % of Microsoft's total stake.\n",
      "Microsoft still holds a key position in the technological sector, and its stock has increased much more in percentage than others in the past year. Currently, the stock is listed as a 'Moderate Buy' due to a projected earnings growth of 14.3% in the next fiscal year. However, its relatively high P/E and P/B ratios sometimes tell a lot about the value investor strategies for exercising more caution.\n",
      "Microsoft's core has deep institutional support and impressive growth prospects. However, Lakehouse Capital's dilution remains a foundation holding for many Investors.\n",
      "\n",
      "              We'd love to learn more about your experiences on GuruFocus.com and how we can improve!\n",
      "            \n",
      "Bucket article_1: The Magnificent 7 Are Beginning to Look AverageWealth Management is part of the Informa Connect Division of Informa PLC\n",
      "This site is operated by a business or businesses owned by Informa PLC and all copyright resides with them. Informa PLC's registered office is 5 Howick Place, London SW1P 1WG. Registered in England and Wales. Number 8860726.\n",
      "Jonathan Levin | Nov 26, 2024\n",
      "(Bloomberg Opinion) -- Growth prospects for the group of companies dubbed the Magnificent 7 are still above average, but they’re no longer magnificent. Consensus Wall Street forecasts suggest that, in aggregate, the seven large-capitalization companies will perform just a whisker better than the “S&P 493” next year, and yet investors continue to pay a premium to own them. That alone suggests it may be time to dial back their weightings in portfolios.  \n",
      "Consider that the group’s net income growth is expected to ping pong around 20% from here on out, according to projections compiled by Bloomberg Intelligence. The other members of the S&P 500 Index are expected to see growth climb toward 16% by the end of next year. The issue is that the Mag 7 grouping trades at a median valuation of about 30 times blended forward earnings, while the other large-cap stocks in the S&P 500 Index trade at a median of 19.5 times. How long should we expect investors to overpay for increasingly similar performance?\n",
      "Related: The Top 20 Evergreen Investments Fundraisers in 2024\n",
      "To a large degree, the next two years will depend on what happens with artificial intelligence and whether the hype around its potential to disrupt the way we do business is sustained. Nvidia Corp. has become the world’s most exciting stock by providing the proverbial picks and shovels for the early days of the AI boom. Apple Inc., Microsoft Corp., Amazon.com Inc., Meta Platforms Inc. and Alphabet Inc. have all gotten in on the excitement by investing heavily in bringing the technology to companies and consumers, in many cases sending their capital expenditures directly into Nvidia’s coffers. The companies have all become codependent and correlated, and their high valuations hinge on the idea that the merry-go-round will keep spinning. (More on odd-man-out Tesla Inc. later.)\n",
      "Some people say it might be slowing down already. While generative AI models continue to dazzle, they’re also plagued by mistakes and imperfections, and the marginal improvement for additional dollars and data isn’t quite what it used to be. Conceivably, AI may follow the path of the internet and other innovations described in the Gartner hype cycle: Early successes and big dreams give way to a subsequent period of disillusionment and even some business failures before a more sustainable revolution can ultimately take hold. In the dot-com bubble, for instance, Amazon.com emerged triumphant from the ashes of so many other e-commerce companies. \n",
      "Related: Climate Funds on Track for First Year of Outflows\n",
      "High expectations may also collide with other threats to the tech and communications behemoths. Alphabet shares tumbled last week after the Department of Justice revealed it would try to make the company sell its Chrome browser. Apple, which has faced its own antitrust scrutiny, is also contending with challenging iPhone sales in China and the threat that President-elect Donald Trump will launch a new trade war that could hobble its supply chain.\n",
      "Tesla, I will acknowledge, is a trade unto itself that isn’t directly related to its Mag 7 peers. Lately, it’s been trading not on extraordinary earnings growth but on the promise of robotaxis that don’t yet exist in the market and Chief Executive Officer Elon Musk’s cozy relationship with Trump (which may just help him clear regulatory hurdles to Tesla’s autonomous driving ambitions). At 108 times forward earnings, Tesla is both the riskiest investment in the Mag 7 basket and possibly the only true diversifier.\n",
      "No doubt, these companies all offer a lot to be excited about, too, and many investors will conclude that the upside-surprise potential is too great to miss out on completely.\n",
      "Indeed, 2024 itself has panned out far better than analysts envisioned some 12 months ago. But it would also be logical for investors to take some profits in those companies, much as Warren Buffett, the investor know as the “Oracle of Omaha,”  has been doing with his stake in Apple. At present, the companies constitute nearly one-third of the S&P 500 by weighting — and by extension a bloated portion of many Americans’ retirement savings. That feels like a bit too much of your future to trust to a group of richly priced companies all leveraged to the same narrative.\n",
      "\n",
      "More From Bloomberg Opinion:\n",
      "​​​​​Want more Bloomberg Opinion? OPIN <GO>. Or you can subscribe to our daily newsletter.\n",
      "To contact the author of this story:\r\n",
      "Jonathan Levin at [email protected]\n",
      "More information about text formats\n",
      "Follow us:\n",
      "Bucket article_2: Musk uses X to push his preferred political picks. Trump isn't always swayedBy Helen Coster and Alexandra Ulmer\n",
      "(Reuters) - Billionaire Elon Musk has been using his social media platform X to go to bat for President-elect Donald Trump's cabinet picks and promote his own preferred candidates, advocating for choices he views as change agents who will help remake the U.S. government.\n",
      "In several high-profile cases, however, Musk backed people who either lost out on the roles or withdrew from consideration, suggesting some early limits to the Republican mega donor's influence even as he has emerged as one of Trump's most powerful allies.\n",
      "Musk, who has 206 million followers on X, posted or reposted about Trump's cabinet picks more than 70 times between Nov. 7 and Nov. 20, a Reuters review found.\n",
      "Though the posts represented just a fraction of his more than 2,000 posts during that period, Musk in many cases used them to give attention to Trump's most controversial choices, including former Democratic congresswoman Tulsi Gabbard for U.S. intelligence chief and environmental activist Robert F. Kennedy Jr to lead the top U.S. health agency. \n",
      "Musk most enthusiastically rallied support for Matt Gaetz, the former congressman Trump initially tapped to be his attorney general.\n",
      "In the days following Gaetz's Nov. 13 nomination, Musk posted 37 times about Gaetz or his wife Ginger, mostly in positive terms. That was far more than his posts about Trump's other appointments.\n",
      "Gaetz backed out of consideration on Nov. 21, saying his candidacy had become a distraction for Trump amid allegations of sexual misconduct and illicit drug abuse. He has denied wrongdoing.\n",
      "For Trump's Treasury secretary, Musk pushed for Wall Street financier Howard Lutnick over hedge fund manager Scott Bessent, whom Musk dismissed as \"a business-as-usual choice.\" Bessent got the job anyway.\n",
      "And in a separate fight over Senate leadership, Musk's endorsed candidate also came up short.\n",
      "One Trump ally said those misses showed the limitations of Musk's sway.\n",
      "Musk's reach on X \"doesn’t mean he’s an effective advocate for his positions or chosen cabinet members,\" the Trump ally said. \"He's still learning how to operate in politics.\"\n",
      "Spokespeople for X and Musk did not respond to Reuters requests for comment for this story.\n",
      "Musk, who owns X and rocket company SpaceX and is chief executive of the electric car company Tesla (NASDAQ:TSLA) Inc., poured at least $119 million into getting Trump elected and has been a near-constant fixture at Trump's Florida residence, Mar-a-Lago, since his election victory earlier this month. \n",
      "The two men attended an Ultimate Fighting Championship event in New York and a SpaceX launch in Texas, and Musk traveled with Trump to Washington for his meeting with President Joe Biden. \n",
      "On Saturday, Musk reposted a photo that showed him sitting with Trump, Lutnick and Republican Senator Joni Ernst at Mar-a-Lago, where they were discussing cabinet nominees, according to the caption.\n",
      "\"Elon Musk and President Trump are great friends and brilliant leaders working together to Make America Great Again. Elon Musk is a once in a generation business leader and our federal bureaucracy will certainly benefit from his ideas and efficiency,\" said Brian Hughes, a spokesperson for the Trump transition team.\n",
      "Musk's close proximity to Trump has prompted some hand-wringing and complaints from the transition team, who were not accustomed to him being around so much, according to two sources close to Trump staff. \n",
      "Amid increased scrutiny of his unusual role, Musk wrote in a post on X on Nov. 20 that while he had offered his opinion on some candidates, he was not in charge. \n",
      "\"Many selections occur without my knowledge and decisions are 100% that of the President,\" Musk said.\n",
      "EFFICIENCY AND EMOJIS\n",
      "Musk's political posts on X far outnumbered those he used to promote his three businesses, the Reuters review found.\n",
      "He frequently mocks liberals and posts about government waste and Trump's newly created government efficiency panel, which the president-elect tapped Musk and entrepreneur Vivek Ramaswamy to lead.\n",
      "Musk's typical posts consist either of an emoji or a short response to other posts.\n",
      "\"Exactly,\" he wrote on Nov. 14, in response to a post noting that Trump's cabinet picks were \"young outsiders\" who \"skipped the line.\"\n",
      "He responded with “Awesome” and a smile emoji on Nov. 13 to a post that said: “They put Tulsi Gabbard on a terror watchlist. Now she’s Director of National Intelligence. The biggest ‘F you’ to the Deep State Swamp.”\n",
      "On Nov. 16, as questions swirled about who Trump would pick for his Treasury secretary, Musk wrote on X that Bessent was \"a business-as-usual choice,\" while Lutnick would \"actually enact change.\" \n",
      "Musk also lobbied against Bessent internally, two sources close to Trump said. \n",
      "His efforts fell flat. On Nov. 22, Trump tapped Bessent for the job.\n",
      "Earlier in the month, Musk threw his support behind Republican Senator Rick Scott for Senate majority leader. Trump chose not to weigh in, and Scott ultimately lost to Senator John Thune for the position. \n",
      "One source close to Musk was struck by Musk's willingness to stick with Trump even after he’s been “shut down a couple of times” by the president-elect.\n",
      "\"That’s very rare for a billionaire,\" the source said. \"In general when they don’t get what they want, they walk away.\"\n",
      "The source said Musk was committed to Trump's government efficiency efforts.\n",
      "\"He's really focused on the goal,\" the source said.\n",
      "Another test of Musk's influence lies ahead. Since the election, he has posted six times in support of Trump loyalist Kash Patel running the FBI. \n",
      "\n",
      "Patel, who served on Trump's National Security Council during his first term, has promised to go after politicians and journalists perceived to be enemies of Trump. Musk's X posts make clear that he sees Patel as the best option for change and reform.\n",
      "On Nov. 14, Musk posted a “100%” emoji in response to a clip of Patel saying that he would shut down the FBI’s headquarters on day one of Trump's new administration and reopen it as a “Deep State Museum,” with the caption “Make him FBI director.” \n",
      "\n",
      "\n"
     ]
    }
   ],
   "execution_count": 27
  }
 ],
 "metadata": {
  "kernelspec": {
   "display_name": "Python 3",
   "language": "python",
   "name": "python3"
  },
  "language_info": {
   "codemirror_mode": {
    "name": "ipython",
    "version": 2
   },
   "file_extension": ".py",
   "mimetype": "text/x-python",
   "name": "python",
   "nbconvert_exporter": "python",
   "pygments_lexer": "ipython2",
   "version": "2.7.6"
  }
 },
 "nbformat": 4,
 "nbformat_minor": 5
}
